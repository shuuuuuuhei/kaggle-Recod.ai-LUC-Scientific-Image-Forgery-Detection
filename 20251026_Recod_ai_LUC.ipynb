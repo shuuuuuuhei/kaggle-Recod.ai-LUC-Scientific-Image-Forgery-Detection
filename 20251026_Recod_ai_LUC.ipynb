{
  "nbformat": 4,
  "nbformat_minor": 0,
  "metadata": {
    "colab": {
      "provenance": [],
      "authorship_tag": "ABX9TyNLksd8HtNwBwaBtv2V9J5n",
      "include_colab_link": true
    },
    "kernelspec": {
      "name": "python3",
      "display_name": "Python 3"
    },
    "language_info": {
      "name": "python"
    }
  },
  "cells": [
    {
      "cell_type": "markdown",
      "metadata": {
        "id": "view-in-github",
        "colab_type": "text"
      },
      "source": [
        "<a href=\"https://colab.research.google.com/github/shuuuuuuhei/kaggle-Recod.ai-LUC-Scientific-Image-Forgery-Detection/blob/main/20251026_Recod_ai_LUC.ipynb\" target=\"_parent\"><img src=\"https://colab.research.google.com/assets/colab-badge.svg\" alt=\"Open In Colab\"/></a>"
      ]
    },
    {
      "cell_type": "code",
      "execution_count": 1,
      "metadata": {
        "colab": {
          "base_uri": "https://localhost:8080/"
        },
        "id": "EAIhx_GsOQBr",
        "outputId": "a6442917-12ba-4802-9af2-8688bf321eb4"
      },
      "outputs": [
        {
          "output_type": "stream",
          "name": "stdout",
          "text": [
            "Mounted at /content/drive\n"
          ]
        }
      ],
      "source": [
        "from google.colab import drive\n",
        "drive.mount('/content/drive')"
      ]
    },
    {
      "cell_type": "code",
      "source": [
        "# Kaggle CLI をインストール\n",
        "!pip install -q kaggle\n",
        "\n",
        "# kaggle.json を ~/.kaggle/ にコピー（Drive から）\n",
        "!mkdir -p ~/.kaggle\n",
        "!cp \"/content/drive/MyDrive/kaggle.json\" ~/.kaggle/\n",
        "!chmod 600 ~/.kaggle/kaggle.json"
      ],
      "metadata": {
        "id": "4V1LhyFMQb4u"
      },
      "execution_count": 4,
      "outputs": []
    },
    {
      "cell_type": "code",
      "source": [
        "# データをダウンロード\n",
        "!kaggle competitions download -c recodai-luc-scientific-image-forgery-detection\n",
        "\n",
        "# 解凍\n",
        "!unzip -q recodai-luc-scientific-image-forgery-detection.zip -d /content/data"
      ],
      "metadata": {
        "colab": {
          "base_uri": "https://localhost:8080/"
        },
        "id": "CaLpQ604Qpkr",
        "outputId": "1da470b6-e98c-409c-d615-369b3a715803"
      },
      "execution_count": 5,
      "outputs": [
        {
          "output_type": "stream",
          "name": "stdout",
          "text": [
            "Downloading recodai-luc-scientific-image-forgery-detection.zip to /content\n",
            " 99% 4.69G/4.75G [01:15<00:04, 16.0MB/s]\n",
            "100% 4.75G/4.75G [01:16<00:00, 67.1MB/s]\n"
          ]
        }
      ]
    },
    {
      "cell_type": "code",
      "source": [],
      "metadata": {
        "id": "LMMrLlPRTu8q"
      },
      "execution_count": null,
      "outputs": []
    },
    {
      "cell_type": "code",
      "source": [],
      "metadata": {
        "id": "3o4OhA7kQtgT"
      },
      "execution_count": null,
      "outputs": []
    }
  ]
}